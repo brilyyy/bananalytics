{
 "cells": [
  {
   "cell_type": "code",
   "execution_count": 40,
   "metadata": {},
   "outputs": [],
   "source": [
    "# %pip install opencv-python numpy \n"
   ]
  },
  {
   "cell_type": "code",
   "execution_count": 41,
   "metadata": {},
   "outputs": [],
   "source": [
    "import json\n",
    "import glob\n",
    "import re\n",
    "\n",
    "\n",
    "train_path = './data-training-pisang/*'  # Gunakan * untuk mencocokkan semua file\n",
    "\n",
    "train_data_label = []\n",
    "\n",
    "# Iterasi melalui file dalam folder\n",
    "for folder_path in glob.glob(train_path):\n",
    "    train_file_path = folder_path + '/*'\n",
    "\n",
    "    label = ''\n",
    "\n",
    "    # Pola regex untuk mencari bagian setelah tanda \"/\" terakhir\n",
    "    pattern = r'/([^/]+)$'\n",
    "\n",
    "    # Menggunakan re.search untuk mencocokkan pola\n",
    "    match = re.search(pattern, folder_path)\n",
    "\n",
    "    # Jika cocok, Anda dapat mengambil bagian yang cocok dengan grup (group)\n",
    "    if match:\n",
    "        label = match.group(1)\n",
    "    else:\n",
    "        print(\"Tidak cocok\")\n",
    "\n",
    "    for file_path in glob.glob(train_file_path):\n",
    "        train_data_label.append([file_path, label])\n",
    "\n",
    "# simpan lokasi file ke json\n",
    "with open('data/data_train_locations.json', 'w') as outfile:\n",
    "    outfile.write(json.dumps(train_data_label, sort_keys=True, indent=4))"
   ]
  },
  {
   "cell_type": "code",
   "execution_count": 51,
   "metadata": {},
   "outputs": [],
   "source": [
    "import cv2\n",
    "import numpy as np\n",
    "import pandas as pd\n",
    "import os\n",
    "\n",
    "\n",
    "def proses_gambar(img_path):\n",
    "    # Baca gambar\n",
    "    image = cv2.imread(img_path)\n",
    "\n",
    "    # Dapatkan dimensi gambar (lebar dan tinggi)\n",
    "    height, width, _ = image.shape\n",
    "\n",
    "    # Tentukan ukuran gambar yang dipotong\n",
    "    new_width = 500  # Misalnya, 200 piksel\n",
    "    new_height = 500  # Misalnya, 200 piksel\n",
    "\n",
    "    # Hitung koordinat x dan y untuk memotong gambar di tengah\n",
    "    x = (width - new_width) // 2\n",
    "    y = (height - new_height) // 2\n",
    "\n",
    "    # Potong gambar\n",
    "    cropped_image = image[y:y+new_height, x:x+new_width]\n",
    "\n",
    "    # Ekstraksi komponen warna RGB\n",
    "    blue_channel = cropped_image[:, :, 0]\n",
    "    green_channel = cropped_image[:, :, 1]\n",
    "    red_channel = cropped_image[:, :, 2]\n",
    "\n",
    "    # Menghitung rata-rata komponen warna\n",
    "    average_blue = np.mean(blue_channel) / 255\n",
    "    average_green = np.mean(green_channel) / 255\n",
    "    average_red = np.mean(red_channel) / 255\n",
    "    \n",
    "    return [average_red, average_green, average_blue]\n",
    "\n",
    "with open('./data/data_train_locations.json') as locations_json:\n",
    "    locations_with_label = json.load(locations_json)\n",
    "\n",
    "np_locations = np.array(locations_with_label)\n",
    "\n",
    "X_train = np.array([proses_gambar(image_path) for image_path in np_locations[:, 0]])\n",
    "y_train = np_locations[:, 1]"
   ]
  },
  {
   "cell_type": "code",
   "execution_count": 59,
   "metadata": {},
   "outputs": [
    {
     "name": "stdout",
     "output_type": "stream",
     "text": [
      "mentah\n"
     ]
    }
   ],
   "source": [
    "from sklearn.neighbors import KNeighborsClassifier\n",
    "\n",
    "# init KNN\n",
    "knn = KNeighborsClassifier(n_neighbors=3)\n",
    "knn.fit(X_train, y_train)\n",
    "\n",
    "\n",
    "data_test = np.array([\n",
    "  './data/FOTO MENTAH/2023_06_21_12_25_IMG_5139.JPG',\n",
    "])\n",
    "\n",
    "# Memisahkan fitur (X) dan label (y) untuk data pengujian\n",
    "X_test = np.array([proses_gambar(image_path) for image_path in data_test])\n",
    "\n",
    "y_pred = knn.predict(X_test)\n",
    "\n",
    "print(y_pred[0])"
   ]
  },
  {
   "cell_type": "code",
   "execution_count": 50,
   "metadata": {},
   "outputs": [],
   "source": [
    "with open('./data/data_train_locations.json') as locations_json:\n",
    "    locations_with_label = json.load(locations_json)\n",
    "\n",
    "for i, item in enumerate(locations_with_label):\n",
    "    image = cv2.imread(item[0])\n",
    "\n",
    "    # Dapatkan dimensi gambar (lebar dan tinggi)\n",
    "    height, width, _ = image.shape\n",
    "\n",
    "    # Tentukan ukuran gambar yang dipotong\n",
    "    new_width = 500  \n",
    "    new_height = 500  \n",
    "\n",
    "    # Hitung koordinat x dan y untuk memotong gambar di tengah\n",
    "    x = (width - new_width) // 2\n",
    "    y = (height - new_height) // 2\n",
    "\n",
    "    # Potong gambar\n",
    "    cropped_image = image[y:y+new_height, x:x+new_width]\n",
    "\n",
    "    cv2.imwrite(f'./data/image/{i}.jpg', cropped_image)"
   ]
  }
 ],
 "metadata": {
  "kernelspec": {
   "display_name": "venv311",
   "language": "python",
   "name": "python3"
  },
  "language_info": {
   "codemirror_mode": {
    "name": "ipython",
    "version": 3
   },
   "file_extension": ".py",
   "mimetype": "text/x-python",
   "name": "python",
   "nbconvert_exporter": "python",
   "pygments_lexer": "ipython3",
   "version": "3.11.2"
  },
  "orig_nbformat": 4
 },
 "nbformat": 4,
 "nbformat_minor": 2
}
